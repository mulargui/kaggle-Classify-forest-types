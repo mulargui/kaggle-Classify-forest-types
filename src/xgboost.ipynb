{
 "cells": [
  {
   "cell_type": "code",
   "execution_count": 1,
   "metadata": {
    "_cell_guid": "b1076dfc-b9ad-4769-8c92-a6c4dae69d19",
    "_uuid": "8f2839f25d086af736a60e9eeb907d3b93b6e0e5"
   },
   "outputs": [],
   "source": [
    "# This Python 3 environment comes with many helpful analytics libraries installed\n",
    "# It is defined by the kaggle/python docker image: https://github.com/kaggle/docker-python\n",
    "# For example, here's several helpful packages to load in \n",
    "\n",
    "import numpy as np # linear algebra\n",
    "import pandas as pd # data processing, CSV file I/O (e.g. pd.read_csv)\n",
    "\n",
    "####### DATA PREPARATION #####\n",
    "\n",
    "#load data\n",
    "dftrain=pd.read_csv('/kaggle/input/learn-together/train.csv')\n",
    "dftest=pd.read_csv('/kaggle/input/learn-together/test.csv')\n",
    "\n",
    "#split train data in features and labels\n",
    "y = dftrain.Cover_Type\n",
    "x = dftrain.drop(['Id','Cover_Type'], axis=1)\n",
    "\n",
    "# split test data in features and Ids\n",
    "Ids = dftest.Id\n",
    "x_predict = dftest.drop('Id', axis=1)\n",
    "\n",
    "#split in train (80%) and test (20%) sets \n",
    "from sklearn.model_selection import train_test_split\n",
    "x_train, x_test, y_train, y_test = train_test_split(x, y,test_size=0.2)"
   ]
  },
  {
   "cell_type": "code",
   "execution_count": 2,
   "metadata": {},
   "outputs": [
    {
     "name": "stdout",
     "output_type": "stream",
     "text": [
      "Accuracy: 75.43%\n"
     ]
    }
   ],
   "source": [
    "##### XGBOOST #####\n",
    "from xgboost import XGBClassifier\n",
    "from sklearn.metrics import accuracy_score\n",
    "\n",
    "#train the model\n",
    "model = XGBClassifier()\n",
    "model.fit(x_train, y_train)\n",
    "\n",
    "# make predictions for test data\n",
    "y_predict = model.predict(x_test)\n",
    "predictions = [round(value) for value in y_predict]\n",
    "\n",
    "# evaluate predictions\n",
    "accuracy = accuracy_score(y_test, predictions)\n",
    "print(\"Accuracy: %.2f%%\" % (accuracy * 100.0))\n",
    "\n",
    "# Predict!!\n",
    "y_predict = model.predict(x_predict)"
   ]
  },
  {
   "cell_type": "code",
   "execution_count": 3,
   "metadata": {},
   "outputs": [
    {
     "data": {
      "text/html": [
       "<a href='submission.csv' target='_blank'>submission.csv</a><br>"
      ],
      "text/plain": [
       "/kaggle/working/submission.csv"
      ]
     },
     "execution_count": 3,
     "metadata": {},
     "output_type": "execute_result"
    }
   ],
   "source": [
    "# Save predictions to a file for submission\n",
    "output = pd.DataFrame({'Id': Ids,\n",
    "                       'Cover_Type': y_predict})\n",
    "output.to_csv('submission.csv', index=False)\n",
    "\n",
    "#create a link to download the file    \n",
    "from IPython.display import FileLink\n",
    "FileLink(r'submission.csv')"
   ]
  }
 ],
 "metadata": {
  "kernelspec": {
   "display_name": "Python 3",
   "language": "python",
   "name": "python3"
  },
  "language_info": {
   "codemirror_mode": {
    "name": "ipython",
    "version": 3
   },
   "file_extension": ".py",
   "mimetype": "text/x-python",
   "name": "python",
   "nbconvert_exporter": "python",
   "pygments_lexer": "ipython3",
   "version": "3.6.6"
  }
 },
 "nbformat": 4,
 "nbformat_minor": 1
}
